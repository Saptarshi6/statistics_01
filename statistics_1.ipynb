{
  "nbformat": 4,
  "nbformat_minor": 0,
  "metadata": {
    "colab": {
      "provenance": []
    },
    "kernelspec": {
      "name": "python3",
      "display_name": "Python 3"
    },
    "language_info": {
      "name": "python"
    }
  },
  "cells": [
    {
      "cell_type": "code",
      "source": [
        "'''\n",
        "Assignment questions:\n",
        "\n",
        "Q1] Explain the different types of data (qualitative and quantitative) and provide examples of each. Discuss nominal,\n",
        "    ordinal, interval, and ratio scales.\n",
        "\n",
        "Ans-\n",
        "1. Qualitative (Categorical) Data\n",
        "Qualitative data describes characteristics, attributes, or labels that do not involve numbers. It is divided into two subcategories:\n",
        "\n",
        "a) Nominal Scale (No Order)\n",
        "Definition: Data is categorized without any specific order or ranking.\n",
        "\n",
        "Examples:\n",
        "\n",
        "Eye color (blue, green, brown)\n",
        "\n",
        "Types of cuisine (Italian, Mexican, Chinese)\n",
        "\n",
        "Marital status (single, married, divorced)\n",
        "\n",
        "b) Ordinal Scale (Ordered but No Fixed Differences)\n",
        "Definition: Data is categorized with a meaningful order or ranking, but the differences between values are not uniform.\n",
        "\n",
        "Examples:\n",
        "\n",
        "Movie ratings (poor, average, good, excellent)\n",
        "\n",
        "Education levels (elementary, high school, bachelor's, master's, PhD)\n",
        "\n",
        "Customer satisfaction survey (dissatisfied, neutral, satisfied)\n",
        "\n",
        "2. Quantitative (Numerical) Data\n",
        "Quantitative data represents numerical values that allow for mathematical computations. It is divided into two subcategories:\n",
        "\n",
        "c) Interval Scale (Ordered with Equal Differences, No True Zero)\n",
        "Definition: Numerical data with equal intervals between values, but no true zero (zero does not mean \"nothing\").\n",
        "\n",
        "Examples:\n",
        "\n",
        "Temperature in Celsius or Fahrenheit (0°C doesn’t mean “no temperature”)\n",
        "\n",
        "IQ scores\n",
        "\n",
        "Years on a timeline (e.g., 2000, 2020)\n",
        "\n",
        "d) Ratio Scale (Ordered with Equal Differences and a True Zero)\n",
        "Definition: Numerical data with equal intervals and a meaningful zero (zero means absence of the quantity).\n",
        "\n",
        "Examples:\n",
        "\n",
        "Height in centimeters (0 cm means no height)\n",
        "\n",
        "Weight in kilograms (0 kg means no weight)\n",
        "\n",
        "Salary or income ($0 means no money)\n",
        "\n",
        "Age (0 years means birth)\n",
        "\n",
        "'''"
      ],
      "metadata": {
        "colab": {
          "base_uri": "https://localhost:8080/",
          "height": 139
        },
        "id": "OdkCdObF-o8P",
        "outputId": "b22f2b86-5119-4f29-b470-0636f33c0885"
      },
      "execution_count": 1,
      "outputs": [
        {
          "output_type": "execute_result",
          "data": {
            "text/plain": [
              "'\\nAssignment questions:\\n\\nQ1] Explain the different types of data (qualitative and quantitative) and provide examples of each. Discuss nominal, \\n    ordinal, interval, and ratio scales.\\n\\nAns- \\n1. Qualitative (Categorical) Data\\nQualitative data describes characteristics, attributes, or labels that do not involve numbers. It is divided into two subcategories:\\n\\na) Nominal Scale (No Order)\\nDefinition: Data is categorized without any specific order or ranking.\\n\\nExamples:\\n\\nEye color (blue, green, brown)\\n\\nTypes of cuisine (Italian, Mexican, Chinese)\\n\\nMarital status (single, married, divorced)\\n\\nb) Ordinal Scale (Ordered but No Fixed Differences)\\nDefinition: Data is categorized with a meaningful order or ranking, but the differences between values are not uniform.\\n\\nExamples:\\n\\nMovie ratings (poor, average, good, excellent)\\n\\nEducation levels (elementary, high school, bachelor\\'s, master\\'s, PhD)\\n\\nCustomer satisfaction survey (dissatisfied, neutral, satisfied)\\n\\n2. Quantitative (Numerical) Data\\nQuantitative data represents numerical values that allow for mathematical computations. It is divided into two subcategories:\\n\\nc) Interval Scale (Ordered with Equal Differences, No True Zero)\\nDefinition: Numerical data with equal intervals between values, but no true zero (zero does not mean \"nothing\").\\n\\nExamples:\\n\\nTemperature in Celsius or Fahrenheit (0°C doesn’t mean “no temperature”)\\n\\nIQ scores\\n\\nYears on a timeline (e.g., 2000, 2020)\\n\\nd) Ratio Scale (Ordered with Equal Differences and a True Zero)\\nDefinition: Numerical data with equal intervals and a meaningful zero (zero means absence of the quantity).\\n\\nExamples:\\n\\nHeight in centimeters (0 cm means no height)\\n\\nWeight in kilograms (0 kg means no weight)\\n\\nSalary or income ($0 means no money)\\n\\nAge (0 years means birth)\\n\\n'"
            ],
            "application/vnd.google.colaboratory.intrinsic+json": {
              "type": "string"
            }
          },
          "metadata": {},
          "execution_count": 1
        }
      ]
    },
    {
      "cell_type": "code",
      "source": [
        "'''\n",
        "\n",
        "Q2]  What are the measures of central tendency, and when should you use each? Discuss the mean, median,\n",
        "     and mode with examples and situations where each is appropriate.\n",
        "\n",
        "Ans- Measures of central tendency summarize a dataset by identifying a central value. The three main measures are mean, median, and mode. Each is useful in different scenarios depending on the nature of the data and its distribution.\n",
        "\n",
        "1. Mean (Average)\n",
        "Definition:\n",
        "The mean is the sum of all values divided by the number of values.\n",
        "\n",
        "Formula: Mean=∑𝑋/𝑁\n",
        "​where:\n",
        "X represents the data values\n",
        "N is the total number of values\n",
        "\n",
        "Example:\n",
        "Consider test scores: 85, 90, 78, 92, 88\n",
        "\n",
        "Mean= (85+90+78+92+885)/5 = 433/5 = 86.6\n",
        "When to Use the Mean:\n",
        "* Best for symmetrical datasets without extreme outliers.\n",
        "* Used in finance (average stock returns), business (average revenue), and science (average temperature)\n",
        "\n",
        "'''"
      ],
      "metadata": {
        "id": "nKWfzxcZ_azD"
      },
      "execution_count": null,
      "outputs": []
    },
    {
      "cell_type": "code",
      "source": [
        "'''\n",
        "\n",
        "Q3]  Explain the concept of dispersion. How do variance and standard deviation measure the spread of data?\n",
        "\n",
        "Ans- Dispersion refers to the extent to which data values in a dataset spread out or vary from the central value (mean, median, or mode).\n",
        "     A higher dispersion means the data points are more spread out, while lower dispersion indicates they are closer together.\n",
        "                  Variance measures the average squared deviation of each data point from the mean. It tells us how much the data points differ\n",
        "     from the mean in squared units.\n",
        "                  Standard deviation is the square root of variance. It brings variance back to the original units of measurement,\n",
        "     making it easier to interpret.\n",
        "\n",
        "'''\n"
      ],
      "metadata": {
        "id": "rBAHaCLyAkgJ"
      },
      "execution_count": null,
      "outputs": []
    },
    {
      "cell_type": "code",
      "source": [
        "'''\n",
        "\n",
        "Q4] What is a box plot, and what can it tell you about the distribution of data?\n",
        "\n",
        "Ans- Definition. A box and whisker plot or diagram (otherwise known as a boxplot), is a graph summarising a set of data. The shape of the\n",
        "     boxplot shows how the data is distributed and it also shows any outliers. It is a useful way to compare different sets of data as you\n",
        "    can draw more than one boxplot per graph.\n",
        "\n",
        "'''"
      ],
      "metadata": {
        "id": "X6zbEcspBJo_"
      },
      "execution_count": null,
      "outputs": []
    },
    {
      "cell_type": "code",
      "source": [
        "'''\n",
        "\n",
        "Q5] Discuss the role of random sampling in making inferences about populations.\n",
        "\n",
        "Ans- Random sampling helps researchers make inferences about populations byensuring that the sample is representative of the larger population.\n",
        "     It's a fundamental method of data collection that's used across many fields and industries.\n",
        "\n",
        "'''"
      ],
      "metadata": {
        "id": "3j2ED80ABuGg"
      },
      "execution_count": null,
      "outputs": []
    },
    {
      "cell_type": "code",
      "source": [
        "'''\n",
        "\n",
        "Q6]  Explain the concept of skewness and its types. How does skewness affect the interpretation of data?\n",
        "\n",
        "Ans- Skewness is a statistical measure of how asymmetrical a data distribution is. It can be positive, negative, or zero. Skewness can help you understand your data and make better decisions.\n",
        "Types of skewness\n",
        "Positive skewness\n",
        "The right side of the distribution is longer than the left side. This means that the extreme data results are larger, which makes the average larger than the median.\n",
        "Negative skewness\n",
        "The left side of the distribution is longer than the right side. This means that the extreme data results are smaller, which makes the median larger than the mean.\n",
        "Zero skewness\n",
        "The distribution is symmetric, with values evenly centered around the mean. The mean, median, and mode are all at the center point.\n",
        "\n",
        "'''"
      ],
      "metadata": {
        "id": "__ZGshpfCAT7"
      },
      "execution_count": null,
      "outputs": []
    },
    {
      "cell_type": "code",
      "source": [
        "'''\n",
        "\n",
        "Q7] What is the interquartile range (IQR), and how is it used to detect outliers?\n",
        "\n",
        "Ans- The interquartile range (IQR) is a measure of how spread out a set of data is, and it's used to identify outliers. To calculate the IQR,\n",
        "     you subtract the first quartile (Q1) from the third quartile (Q3).\n",
        "\n",
        "'''"
      ],
      "metadata": {
        "id": "dBvhRDr4CRPr"
      },
      "execution_count": null,
      "outputs": []
    },
    {
      "cell_type": "code",
      "source": [
        "'''\n",
        "\n",
        "Q8]  Discuss the conditions under which the binomial distribution is used.\n",
        "\n",
        "Ans- The binomial distribution is usedwhen you have a fixed number of independent trials, each with only two possible outcomes\n",
        "     (success or failure), and a constant probability of success for each trial.\n",
        "\n",
        "'''\n"
      ],
      "metadata": {
        "id": "QNl9Ub0dCgit"
      },
      "execution_count": null,
      "outputs": []
    },
    {
      "cell_type": "code",
      "source": [
        "'''\n",
        "\n",
        "Q9] Explain the properties of the normal distribution and the empirical rule (68-95-99.7 rule).\n",
        "\n",
        "Ans- The empirical rule (68-95-99.7 rule) is a set of percentages that explains how data is distributed in a normal distribution. A normal distribution is a probability distribution that's often used in the social and natural sciences.\n",
        "Empirical rule\n",
        "The empirical rule states that 68% of data is within one standard deviation of the mean.\n",
        "95% of data is within two standard deviations of the mean.\n",
        "99.7% of data is within three standard deviations of the mean.\n",
        "\n",
        "'''"
      ],
      "metadata": {
        "id": "sIp2uw-tCxbI"
      },
      "execution_count": null,
      "outputs": []
    },
    {
      "cell_type": "code",
      "source": [
        "'''\n",
        "Q10]  Provide a real-life example of a Poisson process and calculate the probability for a specific event.\n",
        "\n",
        "Ans- Real-Life Example of a Poisson Process\n",
        "A classic example of a Poisson process is the number of customer arrivals at a bank’s ATM per hour. Let's assume that, based on historical data, customers arrive at the ATM at an average rate of 10 per hour.\n",
        "\n",
        "Probability Calculation\n",
        "We will calculate the probability that exactly 7 customers arrive at the ATM in an hour.\n",
        " The probability that exactly 7 customers arrive at the ATM in an hour is 0.0902 (or 9.02%).\n",
        "\n",
        " '''"
      ],
      "metadata": {
        "id": "K3-XsFo2DAAB"
      },
      "execution_count": null,
      "outputs": []
    },
    {
      "cell_type": "code",
      "source": [
        "'''\n",
        "\n",
        "Q11]  Explain what a random variable is and differentiate between discrete and continuous random variables.\n",
        "\n",
        "Ans- A random variable is a numerical outcome of a random process or experiment. It assigns a real number to each possible outcome\n",
        "     of a random event. Random variables are fundamental in probability and statistics as they help quantify uncertainty.\n",
        "\n",
        "     Discrete Random Variables\n",
        "\n",
        "A discrete random variable takes on a countable number of distinct values.\n",
        "\n",
        "These values are often whole numbers, such as 0, 1, 2, etc.\n",
        "\n",
        "Example: The number of heads in 5 coin tosses, the number of students in a classroom, or the outcome of rolling a die (1, 2, 3, 4, 5, or 6).\n",
        "\n",
        "It has a probability mass function (PMF) that assigns probabilities to each possible value.\n",
        "\n",
        "Continuous Random Variables\n",
        "\n",
        "A continuous random variable takes on an uncountable number of values within a given range.\n",
        "\n",
        "These values are usually real numbers, such as height, weight, or temperature.\n",
        "\n",
        "Example: The time it takes to complete a task (which could be any value like 12.3 minutes or 12.34567 minutes), the speed of a car, or the weight of a newborn baby.\n",
        "\n",
        "It has a probability density function (PDF), and probabilities are calculated over intervals rather than for individual values.\n",
        "\n",
        "'''"
      ],
      "metadata": {
        "id": "58xd9NMQDoI7"
      },
      "execution_count": null,
      "outputs": []
    },
    {
      "cell_type": "code",
      "source": [
        "'''\n",
        "\n",
        "Q12]  Provide an example dataset, calculate both covariance and correlation, and interpret the results.\n",
        "\n",
        "Ans- Let's consider an example dataset with two variables:\n",
        "\n",
        "X (Hours Studied): The number of hours students studied for an exam.\n",
        "\n",
        "Y (Exam Score): The scores they received on the exam.\n",
        "\n",
        "Dataset\n",
        "Student\tX (Hours Studied)\tY (Exam Score)\n",
        "1             \t2\t              50\n",
        "2 \t            3               55\n",
        "3 \t            5\t              65\n",
        "4 \t            7               75\n",
        "5 \t            9\t              85\n",
        "Now, let's compute the covariance and correlation between X and Y.\n",
        "\n",
        "Results:\n",
        "Covariance = 41.0\n",
        "\n",
        "Correlation = 0.99999 (approximately 1)\n",
        "\n",
        "Interpretation:\n",
        "Covariance (41.0): Since the covariance is positive, it indicates that as the number of hours studied increases, the exam scores also increase. However, covariance alone does not provide the strength of the relationship, only the direction.\n",
        "\n",
        "Correlation (≈1.0): The correlation coefficient is almost exactly 1, which suggests a very strong positive linear relationship between study hours and exam scores. This means that the more hours a student studies, the higher their exam score is likely to be.\n",
        "\n",
        "'''"
      ],
      "metadata": {
        "id": "QUmGlPUOEIE9"
      },
      "execution_count": null,
      "outputs": []
    }
  ]
}